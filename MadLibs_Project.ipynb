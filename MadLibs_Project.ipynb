{
 "cells": [
  {
   "cell_type": "markdown",
   "metadata": {},
   "source": [
    "# First Project\n",
    "\n",
    "I am beginning my portfolio with a few basic python projects inspired by other demonstrations online. I will cite and reference them within each notebook.  "
   ]
  },
  {
   "cell_type": "markdown",
   "metadata": {},
   "source": [
    "This project will demonstrate a use of string concatenation such as combining the following two strings: \"This is one of two strings.\" and \"Second string, coming in hot!\""
   ]
  },
  {
   "cell_type": "code",
   "execution_count": 15,
   "metadata": {},
   "outputs": [],
   "source": [
    "#print(\"Let me introduce this better. {a} {b}\".format(a=\"This is one of two strings.\", b=\"Second string, coming in hot!\"))\n",
    "#\n",
    "## I used the {}'s as a way to iterject {a} which holds \"This is one of two strings.\", and {b} which holds \"Second string, coming in hot!\""
   ]
  },
  {
   "cell_type": "code",
   "execution_count": 14,
   "metadata": {},
   "outputs": [],
   "source": [
    "# # One other way to do this is very similar and just uses .format() to utilize the {}'s.\n",
    "# second_string = \"Second string, coming in hot!\"\n",
    "# print(\"This is one of two strings. {}\".format(second_string))"
   ]
  },
  {
   "cell_type": "code",
   "execution_count": 17,
   "metadata": {},
   "outputs": [],
   "source": [
    "# # Another way to do this would be to add the values together as I print it.\n",
    "# \n",
    "# string2 = \"Second string, coming in hot!\"\n",
    "# print(\"This is one of two strings. \" + string2)"
   ]
  },
  {
   "cell_type": "code",
   "execution_count": 16,
   "metadata": {},
   "outputs": [],
   "source": [
    "# stroing1 = \"This is one of two strings.\"\n",
    "# print(f\"Let me introduce this better. {string2} {string2}\")"
   ]
  },
  {
   "cell_type": "code",
   "execution_count": 1,
   "metadata": {},
   "outputs": [],
   "source": [
    "adj1 = input(\"Adjective: \")\n",
    "verb1 = input(\"Verb ending in -ed: \")\n",
    "verb2 = input(\"Verb: \")\n",
    "verb3 = input(\"Verb: \")\n",
    "famous_person = input(\"Famous person: \")\n",
    "\n",
    "madlib = f\"Computer Programming is {adj1}! It makes me so {verb1} all the time beacuse \\\n",
    "    I love to {verb2}. Stay hydrated and {verb3} as if you were {famous_person}!\"\n",
    "\n",
    "print(madlib)"
   ]
  },
  {
   "cell_type": "code",
   "execution_count": null,
   "metadata": {},
   "outputs": [],
   "source": []
  }
 ],
 "metadata": {
  "interpreter": {
   "hash": "afa4bd7b3b17809ce727499f5d6be9ee5d785b25a447050def9a3445025e331f"
  },
  "kernelspec": {
   "display_name": "Python 3.9.7 ('base')",
   "language": "python",
   "name": "python3"
  },
  "language_info": {
   "codemirror_mode": {
    "name": "ipython",
    "version": 3
   },
   "file_extension": ".py",
   "mimetype": "text/x-python",
   "name": "python",
   "nbconvert_exporter": "python",
   "pygments_lexer": "ipython3",
   "version": "3.9.7"
  },
  "orig_nbformat": 4
 },
 "nbformat": 4,
 "nbformat_minor": 2
}
