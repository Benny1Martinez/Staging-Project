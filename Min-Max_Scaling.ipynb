{
 "cells": [
  {
   "cell_type": "markdown",
   "metadata": {},
   "source": [
    "# Scaling and Binning Data"
   ]
  },
  {
   "cell_type": "markdown",
   "metadata": {},
   "source": [
    "## I will group and scale the data.  Getting data into the same range of values. "
   ]
  },
  {
   "cell_type": "code",
   "execution_count": 8,
   "metadata": {},
   "outputs": [],
   "source": [
    "import pandas as pd"
   ]
  },
  {
   "cell_type": "code",
   "execution_count": null,
   "metadata": {},
   "outputs": [],
   "source": [
    "df = pd.read_csv(\"C:\\\\Users\\\\benny\\\\OneDrive\\\\Desktop\\\\work\\\\notebooks\\\\data\\\\housing.csv\", dtype={'ocean_proximity'}'category')\n",
    "df.head()"
   ]
  },
  {
   "cell_type": "markdown",
   "metadata": {},
   "source": [
    "# How to: Min to Max Normalization.  This is done in order to allow a rescaling of the values from a complex to a typical 0-1 range.  This makes the standard deviation smaller "
   ]
  },
  {
   "cell_type": "markdown",
   "metadata": {},
   "source": [
    "### Min-Max Scaling - the modified x' is going to be x minus the minimum of x, divided by the range of x. "
   ]
  },
  {
   "cell_type": "markdown",
   "metadata": {},
   "source": [
    "# $x' = \\frac{x - \\text min(x)}{\\text max(x)-min(x)}$"
   ]
  },
  {
   "cell_type": "markdown",
   "metadata": {},
   "source": [
    "# Exercise"
   ]
  },
  {
   "cell_type": "markdown",
   "metadata": {},
   "source": []
  },
  {
   "cell_type": "code",
   "execution_count": 17,
   "metadata": {},
   "outputs": [],
   "source": [
    "from sklearn.preprocessing import minmax_scale\n",
    "import pandas as pd\n",
    "import numpy as np"
   ]
  },
  {
   "cell_type": "markdown",
   "metadata": {},
   "source": [
    "# Changing Categorical data into values - methods"
   ]
  },
  {
   "cell_type": "code",
   "execution_count": 12,
   "metadata": {},
   "outputs": [
    {
     "name": "stdout",
     "output_type": "stream",
     "text": [
      "  Language  Density Ethnic Group  Target\n",
      "0       VN     High         Kinh      12\n",
      "1      ENG   Medium          Dao       5\n",
      "2       DE      Low         Kinh       3\n",
      "3       DE   Medium         Kinh       6\n",
      "4       VN   Medium         Kinh       9\n",
      "5      ENG     High         Kinh      10\n",
      "6       VN      Low        Hmong       6\n",
      "7       DE     High         Kinh       8\n"
     ]
    }
   ],
   "source": [
    "import pandas as pd\n",
    "data = pd.DataFrame({\n",
    "    'Language' : ['VN', 'ENG', 'DE', 'DE', 'VN', 'ENG', 'VN', 'DE'],\n",
    "    'Density' : ['High', ' Medium', 'Low', 'Medium', 'Medium', 'High', 'Low', 'High'],\n",
    "    'Ethnic Group' : ['Kinh', 'Dao', 'Kinh', 'Kinh', 'Kinh', 'Kinh', 'Hmong', 'Kinh'],\n",
    "    'Target' : [12, 5, 3, 6, 9, 10, 6, 8]\n",
    "})\n",
    "\n",
    "print(data)"
   ]
  },
  {
   "cell_type": "code",
   "execution_count": 15,
   "metadata": {},
   "outputs": [
    {
     "name": "stdout",
     "output_type": "stream",
     "text": [
      "   DE  ENG  VN\n",
      "0   0    0   1\n",
      "1   0    1   0\n",
      "2   1    0   0\n",
      "3   1    0   0\n",
      "4   0    0   1\n",
      "5   0    1   0\n",
      "6   0    0   1\n",
      "7   1    0   0\n"
     ]
    }
   ],
   "source": [
    "# Encoding the Column language\n",
    "language_data = pd.get_dummies(data.Language)\n",
    "print(language_data)"
   ]
  },
  {
   "cell_type": "code",
   "execution_count": 18,
   "metadata": {},
   "outputs": [],
   "source": [
    "data = pd.DataFrame(np.random.rand(4000,2),columns=['Item_Identifier','Item_Visibility'])\n",
    "data.loc[:,'Item_Identifier']= data.loc[:,'Item_Identifier'].apply(\n",
    "        lambda x: 'id1' if x> 0.4 else 'id2')"
   ]
  },
  {
   "cell_type": "code",
   "execution_count": 19,
   "metadata": {},
   "outputs": [
    {
     "name": "stdout",
     "output_type": "stream",
     "text": [
      "     Item_Identifier  Item_Visibility\n",
      "0                id1         0.732781\n",
      "1                id2         0.535746\n",
      "2                id2         0.939861\n",
      "3                id1         0.563600\n",
      "4                id1         0.313176\n",
      "...              ...              ...\n",
      "3995             id1         0.712652\n",
      "3996             id1         0.787528\n",
      "3997             id2         0.482721\n",
      "3998             id2         0.075829\n",
      "3999             id1         0.215471\n",
      "\n",
      "[4000 rows x 2 columns]\n"
     ]
    }
   ],
   "source": [
    "print(data)"
   ]
  },
  {
   "cell_type": "code",
   "execution_count": null,
   "metadata": {},
   "outputs": [],
   "source": []
  }
 ],
 "metadata": {
  "interpreter": {
   "hash": "afa4bd7b3b17809ce727499f5d6be9ee5d785b25a447050def9a3445025e331f"
  },
  "kernelspec": {
   "display_name": "Python 3.9.7 ('base')",
   "language": "python",
   "name": "python3"
  },
  "language_info": {
   "codemirror_mode": {
    "name": "ipython",
    "version": 3
   },
   "file_extension": ".py",
   "mimetype": "text/x-python",
   "name": "python",
   "nbconvert_exporter": "python",
   "pygments_lexer": "ipython3",
   "version": "3.9.7"
  },
  "orig_nbformat": 4
 },
 "nbformat": 4,
 "nbformat_minor": 2
}
